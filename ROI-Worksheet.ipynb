{
 "cells": [
  {
   "cell_type": "markdown",
   "metadata": {},
   "source": [
    "<h1>Welcome to your Property ROI worksheet.</h1>"
   ]
  },
  {
   "cell_type": "markdown",
   "metadata": {},
   "source": [
    "<h3>First, gather all your MONTHLY INCOME information (prospective or realized).</h3>"
   ]
  },
  {
   "cell_type": "code",
   "execution_count": 1,
   "metadata": {},
   "outputs": [],
   "source": [
    "rental_income = float(input('Enter your RENTAL income: '))\n",
    "laundry_income = float(input('Enter your income from on-site laundry: '))\n",
    "storage_income = float(input('Enter your storage income (0 if not applicable): '))\n",
    "misc_income = float(input('Enter any other income from the property: '))\n",
    "monthly_income_total = rental_income + laundry_income + storage_income + misc_income\n",
    "print(f'Your total monthly income is ${monthly_income_total}')"
   ]
  },
  {
   "cell_type": "markdown",
   "metadata": {},
   "source": [
    "<h3>Next, gather your MONTHLY EXPENSES information.</h3>"
   ]
  },
  {
   "cell_type": "code",
   "execution_count": null,
   "metadata": {},
   "outputs": [],
   "source": [
    "monthly_expenses = float(input('Enter your monthly Taxes on the property: '))\n",
    "monthly_expenses += float(input('Property Insurance: '))\n",
    "monthly_expenses += float(input('Water and sewage: '))\n",
    "monthly_expenses += float(input('Garbage pickup: '))\n",
    "monthly_expenses += float(input('Electric/Gas (0 if renters pay): '))\n",
    "monthly_expenses += float(input('HOA fees (0 if N/A): '))\n",
    "monthly_expenses += float(input('Lawn/exterior care: '))\n",
    "monthly_expenses += float(input('Cost of vacancy: '))\n",
    "monthly_expenses += float(input('Annuitized repairs: '))\n",
    "monthly_expenses += float(input('Capital Expenditures: '))\n",
    "monthly_expenses += float(input('Property Management fees: '))\n",
    "monthly_expenses += float(input('Mortgage: '))\n",
    "print(f'Your monthly expenses amount to ${monthly_expenses}')"
   ]
  },
  {
   "cell_type": "markdown",
   "metadata": {},
   "source": [
    "<h3>Now we will calculate your monthly and annual cash flows</h3>"
   ]
  },
  {
   "cell_type": "code",
   "execution_count": null,
   "metadata": {},
   "outputs": [],
   "source": [
    "monthly_cash = monthly_income_total - monthly_expenses\n",
    "annual_cash = monthly_cash * 12\n",
    "print(f'Your monthly cash flow is ${monthly_cash}')\n",
    "print(f'Your annual cash flow is ${annual_cash}')\n"
   ]
  },
  {
   "cell_type": "markdown",
   "metadata": {},
   "source": [
    "<h3>Finally, figuring cash on cash return</h3>"
   ]
  },
  {
   "cell_type": "code",
   "execution_count": null,
   "metadata": {},
   "outputs": [],
   "source": [
    "total_investments = float(input(\"Downpayment: \"))\n",
    "total_investments += float(input(\"Closing Costs: \"))\n",
    "total_investments += float(input(\"Rehab Budget: \"))\n",
    "total_investments += float(input(\"Misc property expenses: \"))\n",
    "print(f'Your total investments in the property are ${total_investments}')\n",
    "cash_on_cash_return = (annual_cash/total_investments)*100\n",
    "print(f'Your cash on cash ROI is ${cash_on_cash_return}')"
   ]
  },
  {
   "cell_type": "markdown",
   "metadata": {},
   "source": [
    "<h2>It's that easy!</h2>"
   ]
  }
 ],
 "metadata": {
  "kernelspec": {
   "display_name": "Python 3",
   "language": "python",
   "name": "python3"
  },
  "language_info": {
   "codemirror_mode": {
    "name": "ipython",
    "version": 3
   },
   "file_extension": ".py",
   "mimetype": "text/x-python",
   "name": "python",
   "nbconvert_exporter": "python",
   "pygments_lexer": "ipython3",
   "version": "3.11.8"
  }
 },
 "nbformat": 4,
 "nbformat_minor": 2
}
